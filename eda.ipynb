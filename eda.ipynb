{
  "cells": [
    {
      "cell_type": "code",
      "execution_count": 62,
      "metadata": {
        "colab": {
          "base_uri": "https://localhost:8080/"
        },
        "id": "dPKzZWcBDmyZ",
        "outputId": "f6dd26e1-c574-4709-ca3f-ac18d6db9b5f"
      },
      "outputs": [
        {
          "name": "stdout",
          "output_type": "stream",
          "text": [
            "Drive already mounted at /content/drive; to attempt to forcibly remount, call drive.mount(\"/content/drive\", force_remount=True).\n"
          ]
        }
      ],
      "source": [
        "if 'google.colab' in str(get_ipython()):\n",
        "  from google.colab import drive\n",
        "  drive.mount('/content/drive')"
      ]
    },
    {
      "cell_type": "code",
      "execution_count": 2,
      "metadata": {
        "colab": {
          "base_uri": "https://localhost:8080/"
        },
        "id": "27Q6Dvfn8EFT",
        "outputId": "03024f3e-3e9f-4587-db34-9484777613ad"
      },
      "outputs": [
        {
          "name": "stdout",
          "output_type": "stream",
          "text": [
            "Collecting langchain\n",
            "  Downloading langchain-0.1.16-py3-none-any.whl (817 kB)\n",
            "\u001b[2K     \u001b[90m━━━━━━━━━━━━━━━━━━━━━━━━━━━━━━━━━━━━━━━━\u001b[0m \u001b[32m817.7/817.7 kB\u001b[0m \u001b[31m7.2 MB/s\u001b[0m eta \u001b[36m0:00:00\u001b[0m\n",
            "\u001b[?25hRequirement already satisfied: PyYAML>=5.3 in /usr/local/lib/python3.10/dist-packages (from langchain) (6.0.1)\n",
            "Requirement already satisfied: SQLAlchemy<3,>=1.4 in /usr/local/lib/python3.10/dist-packages (from langchain) (2.0.29)\n",
            "Requirement already satisfied: aiohttp<4.0.0,>=3.8.3 in /usr/local/lib/python3.10/dist-packages (from langchain) (3.9.5)\n",
            "Requirement already satisfied: async-timeout<5.0.0,>=4.0.0 in /usr/local/lib/python3.10/dist-packages (from langchain) (4.0.3)\n",
            "Collecting dataclasses-json<0.7,>=0.5.7 (from langchain)\n",
            "  Downloading dataclasses_json-0.6.5-py3-none-any.whl (28 kB)\n",
            "Collecting jsonpatch<2.0,>=1.33 (from langchain)\n",
            "  Downloading jsonpatch-1.33-py2.py3-none-any.whl (12 kB)\n",
            "Collecting langchain-community<0.1,>=0.0.32 (from langchain)\n",
            "  Downloading langchain_community-0.0.34-py3-none-any.whl (1.9 MB)\n",
            "\u001b[2K     \u001b[90m━━━━━━━━━━━━━━━━━━━━━━━━━━━━━━━━━━━━━━━━\u001b[0m \u001b[32m1.9/1.9 MB\u001b[0m \u001b[31m22.0 MB/s\u001b[0m eta \u001b[36m0:00:00\u001b[0m\n",
            "\u001b[?25hCollecting langchain-core<0.2.0,>=0.1.42 (from langchain)\n",
            "  Downloading langchain_core-0.1.46-py3-none-any.whl (299 kB)\n",
            "\u001b[2K     \u001b[90m━━━━━━━━━━━━━━━━━━━━━━━━━━━━━━━━━━━━━━━━\u001b[0m \u001b[32m299.3/299.3 kB\u001b[0m \u001b[31m20.5 MB/s\u001b[0m eta \u001b[36m0:00:00\u001b[0m\n",
            "\u001b[?25hCollecting langchain-text-splitters<0.1,>=0.0.1 (from langchain)\n",
            "  Downloading langchain_text_splitters-0.0.1-py3-none-any.whl (21 kB)\n",
            "Collecting langsmith<0.2.0,>=0.1.17 (from langchain)\n",
            "  Downloading langsmith-0.1.52-py3-none-any.whl (116 kB)\n",
            "\u001b[2K     \u001b[90m━━━━━━━━━━━━━━━━━━━━━━━━━━━━━━━━━━━━━━━━\u001b[0m \u001b[32m116.4/116.4 kB\u001b[0m \u001b[31m11.7 MB/s\u001b[0m eta \u001b[36m0:00:00\u001b[0m\n",
            "\u001b[?25hRequirement already satisfied: numpy<2,>=1 in /usr/local/lib/python3.10/dist-packages (from langchain) (1.25.2)\n",
            "Requirement already satisfied: pydantic<3,>=1 in /usr/local/lib/python3.10/dist-packages (from langchain) (2.7.0)\n",
            "Requirement already satisfied: requests<3,>=2 in /usr/local/lib/python3.10/dist-packages (from langchain) (2.31.0)\n",
            "Requirement already satisfied: tenacity<9.0.0,>=8.1.0 in /usr/local/lib/python3.10/dist-packages (from langchain) (8.2.3)\n",
            "Requirement already satisfied: aiosignal>=1.1.2 in /usr/local/lib/python3.10/dist-packages (from aiohttp<4.0.0,>=3.8.3->langchain) (1.3.1)\n",
            "Requirement already satisfied: attrs>=17.3.0 in /usr/local/lib/python3.10/dist-packages (from aiohttp<4.0.0,>=3.8.3->langchain) (23.2.0)\n",
            "Requirement already satisfied: frozenlist>=1.1.1 in /usr/local/lib/python3.10/dist-packages (from aiohttp<4.0.0,>=3.8.3->langchain) (1.4.1)\n",
            "Requirement already satisfied: multidict<7.0,>=4.5 in /usr/local/lib/python3.10/dist-packages (from aiohttp<4.0.0,>=3.8.3->langchain) (6.0.5)\n",
            "Requirement already satisfied: yarl<2.0,>=1.0 in /usr/local/lib/python3.10/dist-packages (from aiohttp<4.0.0,>=3.8.3->langchain) (1.9.4)\n",
            "Collecting marshmallow<4.0.0,>=3.18.0 (from dataclasses-json<0.7,>=0.5.7->langchain)\n",
            "  Downloading marshmallow-3.21.1-py3-none-any.whl (49 kB)\n",
            "\u001b[2K     \u001b[90m━━━━━━━━━━━━━━━━━━━━━━━━━━━━━━━━━━━━━━━━\u001b[0m \u001b[32m49.4/49.4 kB\u001b[0m \u001b[31m4.7 MB/s\u001b[0m eta \u001b[36m0:00:00\u001b[0m\n",
            "\u001b[?25hCollecting typing-inspect<1,>=0.4.0 (from dataclasses-json<0.7,>=0.5.7->langchain)\n",
            "  Downloading typing_inspect-0.9.0-py3-none-any.whl (8.8 kB)\n",
            "Collecting jsonpointer>=1.9 (from jsonpatch<2.0,>=1.33->langchain)\n",
            "  Downloading jsonpointer-2.4-py2.py3-none-any.whl (7.8 kB)\n",
            "Collecting packaging<24.0,>=23.2 (from langchain-core<0.2.0,>=0.1.42->langchain)\n",
            "  Downloading packaging-23.2-py3-none-any.whl (53 kB)\n",
            "\u001b[2K     \u001b[90m━━━━━━━━━━━━━━━━━━━━━━━━━━━━━━━━━━━━━━━━\u001b[0m \u001b[32m53.0/53.0 kB\u001b[0m \u001b[31m5.8 MB/s\u001b[0m eta \u001b[36m0:00:00\u001b[0m\n",
            "\u001b[?25hCollecting orjson<4.0.0,>=3.9.14 (from langsmith<0.2.0,>=0.1.17->langchain)\n",
            "  Downloading orjson-3.10.1-cp310-cp310-manylinux_2_17_x86_64.manylinux2014_x86_64.whl (141 kB)\n",
            "\u001b[2K     \u001b[90m━━━━━━━━━━━━━━━━━━━━━━━━━━━━━━━━━━━━━━━━\u001b[0m \u001b[32m141.1/141.1 kB\u001b[0m \u001b[31m3.1 MB/s\u001b[0m eta \u001b[36m0:00:00\u001b[0m\n",
            "\u001b[?25hRequirement already satisfied: annotated-types>=0.4.0 in /usr/local/lib/python3.10/dist-packages (from pydantic<3,>=1->langchain) (0.6.0)\n",
            "Requirement already satisfied: pydantic-core==2.18.1 in /usr/local/lib/python3.10/dist-packages (from pydantic<3,>=1->langchain) (2.18.1)\n",
            "Requirement already satisfied: typing-extensions>=4.6.1 in /usr/local/lib/python3.10/dist-packages (from pydantic<3,>=1->langchain) (4.11.0)\n",
            "Requirement already satisfied: charset-normalizer<4,>=2 in /usr/local/lib/python3.10/dist-packages (from requests<3,>=2->langchain) (3.3.2)\n",
            "Requirement already satisfied: idna<4,>=2.5 in /usr/local/lib/python3.10/dist-packages (from requests<3,>=2->langchain) (3.7)\n",
            "Requirement already satisfied: urllib3<3,>=1.21.1 in /usr/local/lib/python3.10/dist-packages (from requests<3,>=2->langchain) (2.0.7)\n",
            "Requirement already satisfied: certifi>=2017.4.17 in /usr/local/lib/python3.10/dist-packages (from requests<3,>=2->langchain) (2024.2.2)\n",
            "Requirement already satisfied: greenlet!=0.4.17 in /usr/local/lib/python3.10/dist-packages (from SQLAlchemy<3,>=1.4->langchain) (3.0.3)\n",
            "Collecting mypy-extensions>=0.3.0 (from typing-inspect<1,>=0.4.0->dataclasses-json<0.7,>=0.5.7->langchain)\n",
            "  Downloading mypy_extensions-1.0.0-py3-none-any.whl (4.7 kB)\n",
            "Installing collected packages: packaging, orjson, mypy-extensions, jsonpointer, typing-inspect, marshmallow, jsonpatch, langsmith, dataclasses-json, langchain-core, langchain-text-splitters, langchain-community, langchain\n",
            "  Attempting uninstall: packaging\n",
            "    Found existing installation: packaging 24.0\n",
            "    Uninstalling packaging-24.0:\n",
            "      Successfully uninstalled packaging-24.0\n",
            "Successfully installed dataclasses-json-0.6.5 jsonpatch-1.33 jsonpointer-2.4 langchain-0.1.16 langchain-community-0.0.34 langchain-core-0.1.46 langchain-text-splitters-0.0.1 langsmith-0.1.52 marshmallow-3.21.1 mypy-extensions-1.0.0 orjson-3.10.1 packaging-23.2 typing-inspect-0.9.0\n"
          ]
        }
      ],
      "source": [
        "!pip install langchain"
      ]
    },
    {
      "cell_type": "code",
      "execution_count": 4,
      "metadata": {
        "colab": {
          "base_uri": "https://localhost:8080/"
        },
        "id": "x5YW1eBO8SgJ",
        "outputId": "370cf26d-f1cc-4a1c-8c37-02eba643e27c"
      },
      "outputs": [
        {
          "name": "stdout",
          "output_type": "stream",
          "text": [
            "Collecting pypdf\n",
            "  Downloading pypdf-4.2.0-py3-none-any.whl (290 kB)\n",
            "\u001b[?25l     \u001b[90m━━━━━━━━━━━━━━━━━━━━━━━━━━━━━━━━━━━━━━━━\u001b[0m \u001b[32m0.0/290.4 kB\u001b[0m \u001b[31m?\u001b[0m eta \u001b[36m-:--:--\u001b[0m\r\u001b[2K     \u001b[91m━━━━━━━━━━━━━━━━━━━━━━━━━━\u001b[0m\u001b[91m╸\u001b[0m\u001b[90m━━━━━━━━━━━━━\u001b[0m \u001b[32m194.6/290.4 kB\u001b[0m \u001b[31m5.7 MB/s\u001b[0m eta \u001b[36m0:00:01\u001b[0m\r\u001b[2K     \u001b[90m━━━━━━━━━━━━━━━━━━━━━━━━━━━━━━━━━━━━━━━━\u001b[0m \u001b[32m290.4/290.4 kB\u001b[0m \u001b[31m5.7 MB/s\u001b[0m eta \u001b[36m0:00:00\u001b[0m\n",
            "\u001b[?25hRequirement already satisfied: typing_extensions>=4.0 in /usr/local/lib/python3.10/dist-packages (from pypdf) (4.11.0)\n",
            "Installing collected packages: pypdf\n",
            "Successfully installed pypdf-4.2.0\n"
          ]
        }
      ],
      "source": [
        "!pip install pypdf"
      ]
    },
    {
      "cell_type": "code",
      "execution_count": 5,
      "metadata": {
        "id": "DlTbo6xCEAt_"
      },
      "outputs": [],
      "source": [
        "import os\n",
        "from langchain.embeddings.openai import OpenAIEmbeddings\n",
        "from langchain.chat_models import ChatOpenAI\n",
        "from langchain.chains import ConversationalRetrievalChain\n",
        "from langchain.document_loaders.csv_loader import CSVLoader\n",
        "from langchain_community.document_loaders import PyPDFLoader\n",
        "from langchain.vectorstores import FAISS\n",
        "from langchain.prompts import load_prompt\n",
        "# from pymongo import MongoClient\n",
        "# from pymongo.mongo_client import MongoClient\n",
        "# from pymongo.server_api import ServerApi\n",
        "import json\n",
        "import time\n",
        "import datetime\n",
        "import pypdf"
      ]
    },
    {
      "cell_type": "code",
      "execution_count": 6,
      "metadata": {
        "id": "2G1nfnlbE6l3"
      },
      "outputs": [],
      "source": [
        "prompt_template = \"templates/template.json\"\n",
        "faiss_index = \"faiss_index\"\n",
        "data_source = \"data/about_bhavna.csv\"\n",
        "pdf_source = \"data/Bhavna_Matwani_Resume.pdf\""
      ]
    },
    {
      "cell_type": "code",
      "execution_count": 7,
      "metadata": {
        "id": "yOZ83fO6HcLx"
      },
      "outputs": [],
      "source": [
        "def is_valid_json(data):\n",
        "    try:\n",
        "        json.loads(data)\n",
        "        return True\n",
        "    except json.JSONDecodeError:\n",
        "        return False"
      ]
    },
    {
      "cell_type": "code",
      "execution_count": 8,
      "metadata": {
        "id": "fHm_6br_IEqs"
      },
      "outputs": [],
      "source": [
        "import os\n",
        "os.environ['OPENAI_API_KEY'] = \"Enter key here\""
      ]
    },
    {
      "cell_type": "code",
      "execution_count": 10,
      "metadata": {
        "colab": {
          "base_uri": "https://localhost:8080/"
        },
        "id": "Jao8BQRT8vvF",
        "outputId": "856e2f95-6730-4189-ca43-6db006d6f759"
      },
      "outputs": [
        {
          "name": "stdout",
          "output_type": "stream",
          "text": [
            "Collecting openai\n",
            "  Downloading openai-1.24.0-py3-none-any.whl (312 kB)\n",
            "\u001b[?25l     \u001b[90m━━━━━━━━━━━━━━━━━━━━━━━━━━━━━━━━━━━━━━━━\u001b[0m \u001b[32m0.0/312.3 kB\u001b[0m \u001b[31m?\u001b[0m eta \u001b[36m-:--:--\u001b[0m\r\u001b[2K     \u001b[91m━━━━━━━━━━━━━━━━━━━━━━━━━━━━━━━━\u001b[0m\u001b[91m╸\u001b[0m\u001b[90m━━━━━━━\u001b[0m \u001b[32m256.0/312.3 kB\u001b[0m \u001b[31m7.5 MB/s\u001b[0m eta \u001b[36m0:00:01\u001b[0m\r\u001b[2K     \u001b[90m━━━━━━━━━━━━━━━━━━━━━━━━━━━━━━━━━━━━━━━━\u001b[0m \u001b[32m312.3/312.3 kB\u001b[0m \u001b[31m6.3 MB/s\u001b[0m eta \u001b[36m0:00:00\u001b[0m\n",
            "\u001b[?25hRequirement already satisfied: anyio<5,>=3.5.0 in /usr/local/lib/python3.10/dist-packages (from openai) (3.7.1)\n",
            "Requirement already satisfied: distro<2,>=1.7.0 in /usr/lib/python3/dist-packages (from openai) (1.7.0)\n",
            "Collecting httpx<1,>=0.23.0 (from openai)\n",
            "  Downloading httpx-0.27.0-py3-none-any.whl (75 kB)\n",
            "\u001b[2K     \u001b[90m━━━━━━━━━━━━━━━━━━━━━━━━━━━━━━━━━━━━━━━━\u001b[0m \u001b[32m75.6/75.6 kB\u001b[0m \u001b[31m6.0 MB/s\u001b[0m eta \u001b[36m0:00:00\u001b[0m\n",
            "\u001b[?25hRequirement already satisfied: pydantic<3,>=1.9.0 in /usr/local/lib/python3.10/dist-packages (from openai) (2.7.0)\n",
            "Requirement already satisfied: sniffio in /usr/local/lib/python3.10/dist-packages (from openai) (1.3.1)\n",
            "Requirement already satisfied: tqdm>4 in /usr/local/lib/python3.10/dist-packages (from openai) (4.66.2)\n",
            "Requirement already satisfied: typing-extensions<5,>=4.7 in /usr/local/lib/python3.10/dist-packages (from openai) (4.11.0)\n",
            "Requirement already satisfied: idna>=2.8 in /usr/local/lib/python3.10/dist-packages (from anyio<5,>=3.5.0->openai) (3.7)\n",
            "Requirement already satisfied: exceptiongroup in /usr/local/lib/python3.10/dist-packages (from anyio<5,>=3.5.0->openai) (1.2.1)\n",
            "Requirement already satisfied: certifi in /usr/local/lib/python3.10/dist-packages (from httpx<1,>=0.23.0->openai) (2024.2.2)\n",
            "Collecting httpcore==1.* (from httpx<1,>=0.23.0->openai)\n",
            "  Downloading httpcore-1.0.5-py3-none-any.whl (77 kB)\n",
            "\u001b[2K     \u001b[90m━━━━━━━━━━━━━━━━━━━━━━━━━━━━━━━━━━━━━━━━\u001b[0m \u001b[32m77.9/77.9 kB\u001b[0m \u001b[31m6.4 MB/s\u001b[0m eta \u001b[36m0:00:00\u001b[0m\n",
            "\u001b[?25hCollecting h11<0.15,>=0.13 (from httpcore==1.*->httpx<1,>=0.23.0->openai)\n",
            "  Downloading h11-0.14.0-py3-none-any.whl (58 kB)\n",
            "\u001b[2K     \u001b[90m━━━━━━━━━━━━━━━━━━━━━━━━━━━━━━━━━━━━━━━━\u001b[0m \u001b[32m58.3/58.3 kB\u001b[0m \u001b[31m7.5 MB/s\u001b[0m eta \u001b[36m0:00:00\u001b[0m\n",
            "\u001b[?25hRequirement already satisfied: annotated-types>=0.4.0 in /usr/local/lib/python3.10/dist-packages (from pydantic<3,>=1.9.0->openai) (0.6.0)\n",
            "Requirement already satisfied: pydantic-core==2.18.1 in /usr/local/lib/python3.10/dist-packages (from pydantic<3,>=1.9.0->openai) (2.18.1)\n",
            "Installing collected packages: h11, httpcore, httpx, openai\n",
            "Successfully installed h11-0.14.0 httpcore-1.0.5 httpx-0.27.0 openai-1.24.0\n"
          ]
        }
      ],
      "source": [
        "!pip install openai"
      ]
    },
    {
      "cell_type": "code",
      "execution_count": 11,
      "metadata": {
        "id": "rWkpDbaYGPU1"
      },
      "outputs": [],
      "source": [
        "embeddings = OpenAIEmbeddings()"
      ]
    },
    {
      "cell_type": "code",
      "execution_count": 12,
      "metadata": {
        "id": "VjlT8vVES3Bb"
      },
      "outputs": [],
      "source": [
        "pdf_loader = PyPDFLoader(pdf_source)\n",
        "pdf_data = pdf_loader.load()"
      ]
    },
    {
      "cell_type": "code",
      "execution_count": 13,
      "metadata": {
        "colab": {
          "base_uri": "https://localhost:8080/"
        },
        "id": "TA6k0pQQS3Bb",
        "outputId": "c88f67a4-e461-4598-927e-4a7a10cfbbf3"
      },
      "outputs": [
        {
          "data": {
            "text/plain": [
              "[Document(page_content='Bhavna Matwani\\nbhavna.matwani@nyu.edu ●\\uf0e1bhavna-matwani ●\\uf09bbhavna-matwani ●+1 (551) 344-7059\\nEDUCATION New York University, Courant Institute of Mathematical Sciences , New York City, New York\\nMaster of Science in Computer Science | GPA: 3.867/4.0 Sep 2022 – May 2024\\nSardar Vallabhbhai National Institute of Technology (SVNIT) , Surat, India\\nBachelor of Technology in Electrical Engineering | GPA: 8.86/10.0 Jul 2018 – May 2022\\nTECHNICAL\\nSKILLSLanguages - C++, Python, TypeScript, Javascript, C, MATLAB, SQL, HTML, Java, Scala, Ocaml, Embedded C\\nFrameworks/ Libraries - Pytorch, Keras, TensorFlow, OpenCV , Pandas, OpenAI\\nTools - Node.js, React, Angular, Spring Boot, Maven, GitHub, Docker, Kubernetes, OpenShift, Swagger/OpenAPI, Flask, GitHub Actions\\nCloud and Big Data Technologies - Google Cloud Platform, AWS, HDFS, MapReduce, Hive, Trino, Zookeeper, Kafka, Selenium\\nWORK\\nEXPERIENCEPlatform Developer Intern, Vimbly Group May 2023 – Aug 2023\\n■Developed the SmartSMS Image Generator , an AI-powered tool that seamlessly transforms text prompts into engaging images,\\nbolstering customer interactions for over 100 million messages across 4,000+ businesses using LLMs and Image Generation.\\n■Incorporated comprehensive activity logs and advanced account management options within the Customer Support Panel.\\n■Outlined feature specifications to gauge user adoption and identified areas of improvement for 3 Generative AI features.\\nSoftware Engineer Intern, Mastercard Technologies May 2021 – Jul 2021\\n■Built Angular GUI tool for visualising, tracking transactions in real time and pin-pointing failures.\\n■Deployed Springboot based app on Heroku cloud to ease communication with log aggregator.\\n■Scraped logs using REST APIs for improving log traceability.\\nSummer Research Scholar, Indian Institute of Science Jun 2020 – Dec 2020\\n■Trained and reviewed accuracy of CNNs and Capsule Networks on MNIST and CIFAR-10 datasets.\\n■Analyzed CapsNet’s accuracy by adding class independent decoder, removing reconstruction loss and varying activation function.\\n■Attained a validation accuracy of 81% over 10+ modifications.\\nSELECTED\\nPROJECTSE-Commerce Shopcarts Microservice\\n■Created a Python microservice using Flask, complete with Swagger API documentation and Docker achieving 95% code coverage\\n■Managed Kubernetes and OpenShift deployments, showcasing expertise in microservices and CI/CD practices within an Agile team.\\nFrameForesight\\n■Trained frame prediction model on a 13,000-video unlabeled dataset, predicting the 22nd frame from the first 11 frames.\\n■Applied results to a semantic segmentation model trained on 1,000 videos, classifying 49 object characteristic combinations with an\\naccuracy of 0.2152 compared to 0.0193 baseline accuracy.\\nMulti-Runner Segmentation and Privacy-Preserving Focus in Marathon Images using Racing Bib Detection\\n■Leveraged YOLOv4 to achieve precise racing bib detection and number recognition and MASK R-CNN, an advanced segmentation\\nalgorithm, to successfully isolate each runner in event photographs\\n■Integrated a custom privacy-preserving techniques, ensuring ethical and responsible dissemination of marathon event photographs by\\nselectively applying blurring to all runners, while highlighting the participant identified by the racing bib number.\\nAssessment of Safety Metrics Across Neighborhoods in New York City (NYC)\\n■Engineered a Big Data Analytics tool to assess safety in NYC neighborhoods to establish comprehensive safety rankings in NYC\\nneighborhoods by Zip Code, enhancing the granularity of safety assessments.\\n■Generated visually intuitive year-wise and zipcode-wise safety heatmaps, facilitating a nuanced understanding of safety patterns and\\nsupporting informed decision-making for targeted interventions.\\nTunes for Expression\\n■Formulated a facial analysis based utility to recommend songs using Haar Cascade Classifier and CNN model trained on FER Dataset\\nto achieve a 65% test acccuracy for 7 class recognition.\\nVirtual Try-On Network\\n■Devised a CNN system where garments are transferred across images of people with arbitrary body pose, shape and clothing using\\nGraphical Matching Module.\\nGesture Interpreter for Specially Abled\\n■Effected an interpreter for translating hand gesture language of specially abled people into readable and audible formats using ResNet50\\nfor 9 class recognition with a test accuracy of 98.93%.\\nOperating System Simulator\\n■Simulated an Operating System by implementing the Linker, Memory Management Unit, Process and Disk Scheduling, Banker’s\\nalgorithm and Socket Programming using C++.\\nADDITIONAL\\nROLES■Recitation Leader, NYU Courant Math Dept. – Led recitations for Calculus 1, addressing student queries and grading assignments.\\n■Grader, NYU Courant CS Dept. – Conduct comprehensive evaluation and assessment for the course Mathematical Techniques in\\nCS Applications of student assignments, quizzes, and exams, adhering to established grading criteria and guidelines.', metadata={'source': 'Bhavna_Matwani_Resume.pdf', 'page': 0})]"
            ]
          },
          "execution_count": 13,
          "metadata": {},
          "output_type": "execute_result"
        }
      ],
      "source": [
        "pdf_data"
      ]
    },
    {
      "cell_type": "code",
      "execution_count": 14,
      "metadata": {
        "id": "3Y7s3z6Iq28k"
      },
      "outputs": [],
      "source": [
        "csv_loader = CSVLoader(file_path=\"data/about_bhavna.csv\", encoding=\"utf-8\")\n",
        "csv_data = csv_loader.load()"
      ]
    },
    {
      "cell_type": "code",
      "execution_count": 15,
      "metadata": {
        "colab": {
          "base_uri": "https://localhost:8080/"
        },
        "id": "SyrmbEVHS3Bc",
        "outputId": "b6e51a5a-50e8-48e6-a316-a64518070def"
      },
      "outputs": [
        {
          "data": {
            "text/plain": [
              "[Document(page_content=\"question: What is Bhavna's educational background?\\nanswer: Bhavna Matwani completed her Bachelor of Technology in Electrical Engineering from Sardar Vallabhbhai National Institute of Technology, Surat, India in May 2022 with a GPA of 8.86/10.0. She is currently pursuing a Master of Science in Computer Science at New York University, Courant Institute of Mathematical Sciences, with an expected graduation in May 2024 and a current GPA of 3.867/4.0.\", metadata={'source': 'about_bhavna.csv', 'row': 0}),\n",
              " Document(page_content='question: What technical skills does Bhavna have?\\nanswer: Bhavna is skilled in several programming languages including C++, Python, TypeScript, JavaScript, C, MATLAB, SQL, HTML, Java, Scala, and Embedded C. She is also proficient with frameworks and libraries such as Pytorch, Keras, TensorFlow, OpenCV, and Pandas, and tools like Node.js, React, Angular, Spring Boot, Maven, Docker, Kubernetes, OpenShift, and Flask. Additionally, she has experience with cloud and big data technologies like Google Cloud Platform, AWS, HDFS, MapReduce, Hive, Trino, Zookeeper, and Kafka.', metadata={'source': 'about_bhavna.csv', 'row': 1}),\n",
              " Document(page_content='question: What work experience does Bhavna have?\\nanswer: Bhavna was a Platform Developer Intern at Vimbly Group from May to August 2023, where she developed the SmartSMS Image Generator, enhancing customer interactions. She also worked as a Software Engineer Intern at Mastercard Technologies from May to July 2021, focusing on transaction visualization tools. Additionally, she was a Summer Research Scholar at the Indian Institute of Science from June to December 2020, working on CNNs and Capsule Networks.', metadata={'source': 'about_bhavna.csv', 'row': 2}),\n",
              " Document(page_content='question: What projects has Bhavna worked on?\\nanswer: Bhavna has worked on several notable projects: 1. E-Commerce Shopcarts Microservice, using Flask and Docker for API management. 2. FrameForesight, predicting video frames using machine learning. 3. Multi-Runner Segmentation, using YOLOv4 and MASK R-CNN for marathon image analysis. 4. Assessment of Safety Metrics in NYC, a big data project to enhance safety assessments. 5. Tunes for Expression, a facial analysis tool for song recommendations. 6. Virtual Try-On Network, a CNN-based system for transferring garments across images.', metadata={'source': 'about_bhavna.csv', 'row': 3}),\n",
              " Document(page_content='question: What additional roles has Bhavna undertaken?\\nanswer: Bhavna has taken on leadership and academic roles at NYU, including Recitation Leader for Calculus 1 and Grader for the CS Department, where she conducted evaluations for the course Mathematical Techniques in CS Applications.', metadata={'source': 'about_bhavna.csv', 'row': 4}),\n",
              " Document(page_content='question: What volunteering experiences does Bhavna have?\\nanswer: Bhavna has been actively involved in several volunteering roles: 1. Convener at DRISHTI-A Revolutionary Concept from July 2020 to July 2021, leading initiatives and projects aimed at educational reform. 2. Team Member at DRISHTI-A Revolutionary Concept from May 2019 to July 2020, contributing to various community outreach programs. 3. Creative Committee Member at the Electrical Engineering Society from October 2019 to September 2020, where she was involved in organizing and enhancing creative engagements. 4. Academic Affairs Secretary at SVNIT, Surat from August 2021 to May 2022, responsible for overseeing academic events and student welfare initiatives. 5. Team Member at CHRD SVNIT from September 2018 to July 2021, participating in research and development projects. 6. Kirdaar Head at CHRD NIT SURAT from August 2021 to May 2022, leading theatrical and artistic representations to promote cultural awareness.', metadata={'source': 'about_bhavna.csv', 'row': 5}),\n",
              " Document(page_content='question: How has Bhavna contributed to community service through her technical skills?\\nanswer: Through her role in DRISHTI-A Revolutionary Concept, Bhavna applied her technical expertise in electrical engineering to develop community-based projects that focus on sustainability and innovation. Her work with CHRD SVNIT involved leveraging technology for community health and development projects.', metadata={'source': 'about_bhavna.csv', 'row': 6}),\n",
              " Document(page_content=\"question: What impact did Bhavna's volunteering have on her professional development?\\nanswer: Bhavna's volunteering experiences have enriched her leadership and organizational skills, making her adept at managing complex projects and leading diverse teams. These roles have also enhanced her ability to apply technical knowledge in real-world settings, preparing her for challenges in her professional career in technology and engineering.\", metadata={'source': 'about_bhavna.csv', 'row': 7}),\n",
              " Document(page_content=\"question: How can I contact Bhavna?\\nanswer: Bhavna's contact information: email - bhavna.matwani@nyu.edu, phone - +1-551-344-7059, LinkedIn - https://www.linkedin.com/in/bhavna-matwani/\", metadata={'source': 'about_bhavna.csv', 'row': 8}),\n",
              " Document(page_content=\"question: hello\\nanswer: Hello, I'm a Resume Bot. I can assist you with queries such as 'What did Bhavna study?' or 'Where has she worked?' as well as other typical interview questions. What would you like to know about Bhavna?\", metadata={'source': 'about_bhavna.csv', 'row': 9}),\n",
              " Document(page_content='question: What languages does Bhavna speak?\\nanswer: Bhavna speaks English, Hindi, Sindhi and Gujarati', metadata={'source': 'about_bhavna.csv', 'row': 10}),\n",
              " Document(page_content=\"question: Where can I see Bhavna's resume?\\nanswer: You can see his resume on his LinkedIn https://www.linkedin.com/in/bhavna-matwani/\", metadata={'source': 'about_bhavna.csv', 'row': 11}),\n",
              " Document(page_content=\"question: Tell me about Bhavna's hobbies\\nanswer: Bhavna loves to read books, explore new places and cuisines and watch web series on Netflix.\", metadata={'source': 'about_bhavna.csv', 'row': 12}),\n",
              " Document(page_content='question: Who built you?\\nanswer: I was built by Bhavna Matwani, an AI enthusiast and software developer. She designed me to assist with answering questions about her background, skills, and experiences. If you have any questions about Bhavna, feel free to ask!', metadata={'source': 'about_bhavna.csv', 'row': 13}),\n",
              " Document(page_content=\"question: Ok thanks Bye\\nanswer: You're welcome! If you have any more questions or need further information about Bhavna, feel free to ask. Have a great day!\", metadata={'source': 'about_bhavna.csv', 'row': 14}),\n",
              " Document(page_content=\"question: What's your graduation cgpa?\\nanswer: Bhavna is studying Computer Science at NYU Courant of Mathematical Sciences, she will graduate in May 2024. She currently has a CGPA of 3.867 out of 4\", metadata={'source': 'about_bhavna.csv', 'row': 15}),\n",
              " Document(page_content='question: Where is she based out of?\\nanswer: Bhavna is currently based in New York, New York, where she is pursuing her Master of Science in Computer Science at New York University. She is open to relocate for career opportunities and is willing to travel for work.', metadata={'source': 'about_bhavna.csv', 'row': 16}),\n",
              " Document(page_content='question: What jobs is Bhavna seeking?\\nanswer: Bhavna is seeking roles in the field of software engineering, data science, AI, and machine learning. She is interested in positions such as Software Engineer, Machine Learning Engineer, Data Scientist, Data analyst, and AI Researcher. Bhavna is open to opportunities that allow him to leverage his technical skills creativity and problem-solving abilities to drive innovation and make a positive impact in various industries.', metadata={'source': 'about_bhavna.csv', 'row': 17}),\n",
              " Document(page_content='question: What are Bhavna\\'s career goals?\"\\nanswer: Bhavna\\'s career goals revolve around leveraging AI and data science to drive innovation and solve complex problems in various industries. She aspires to be at the forefront of AI research and development, working on cutting-edge projects that push the boundaries of what is possible with technology. She aims to make a positive impact on society by using AI to address critical issues and improve people\\'s lives. Bhavna\\'s goal is to become a thought leader in the field of AI and inspire others to pursue careers in technology and data science.', metadata={'source': 'about_bhavna.csv', 'row': 18}),\n",
              " Document(page_content=\"question: Who is Bhavna?\\nanswer: Bhavna Matwani is a computer science student at NYU's Courant Institute, holding a Bachelor's in Electrical Engineering from SVNIT. She's demonstrated deep technical competency across a wide range of technologies, including extensive programming and system development, from AI-powered tools to cloud infrastructure.\", metadata={'source': 'about_bhavna.csv', 'row': 19}),\n",
              " Document(page_content='question: What motivates Bhavna?\\nanswer: Bhavna is motivated by the challenges of technology and the opportunity to solve complex problems that can have a significant impact. Her drive is evident in her rigorous academic pursuits and her proactive involvement in projects that leverage AI and data analytics to improve user experiences and operational efficiencies.', metadata={'source': 'about_bhavna.csv', 'row': 20}),\n",
              " Document(page_content='question: Where does Bhavna see herself in 5 years?\\nanswer: In five years, Bhavna sees herself as a leader in the tech industry, driving innovation in software development or data science. She aims to be at the forefront of developing technologies that not only enhance business capabilities but also contribute positively to societal needs.', metadata={'source': 'about_bhavna.csv', 'row': 21}),\n",
              " Document(page_content='question: What is Bhavna doing right now?\\nanswer: Bhavna is currently completing her Master of Science in Computer Science at NYU, working on projects like the E-Commerce Shopcarts Microservice and Multi-Runner Segmentation for marathon images. Her work focuses on applying AI and machine learning to solve practical and impactful problems.', metadata={'source': 'about_bhavna.csv', 'row': 22}),\n",
              " Document(page_content='question: What programming languages or technologies is Bhavna proficient in?\\nanswer: Bhavna is proficient in a variety of programming languages and technologies, including C++, Python, TypeScript, JavaScript, C, MATLAB, SQL, HTML, Java, Scala, Ocaml, Embedded C, and frameworks like Pytorch, Keras, TensorFlow, and tools such as Node.js, React, Angular, Spring Boot.', metadata={'source': 'about_bhavna.csv', 'row': 23}),\n",
              " Document(page_content=\"question: Could you tell me about Bhavna's skills?\\nanswer: Bhavna's skills span across programming, system design, AI and machine learning, with practical applications in software development, cloud technologies, and data analytics. Her technical prowess is complemented by her ability to lead projects and her insight into operational enhancements.\", metadata={'source': 'about_bhavna.csv', 'row': 24}),\n",
              " Document(page_content='question: What project is Bhavna most proud of?\\nanswer: Bhavna is particularly proud of her work on the SmartSMS Image Generator at Vimbly Group, an AI-driven tool that significantly enhances customer interaction through dynamic image generation, serving millions of users across thousands of businesses.', metadata={'source': 'about_bhavna.csv', 'row': 25}),\n",
              " Document(page_content=\"question: What is Bhavna's passion?\\nanswer: Bhavna is passionate about leveraging technology to solve real-world problems, particularly through the use of AI and machine learning. She is also dedicated to education and community service, teaching programming and math to help make these fields accessible to more people.\", metadata={'source': 'about_bhavna.csv', 'row': 26}),\n",
              " Document(page_content=\"question: Tell me about Bhavna's strengths\\nanswer: Bhavna's strengths include her advanced technical abilities, problem-solving skills, and her dedication to applying her knowledge to real-world applications. She is also recognized for her leadership in academic and project settings, where she effectively communicates and collaborates with diverse teams.\", metadata={'source': 'about_bhavna.csv', 'row': 27}),\n",
              " Document(page_content=\"question: Tell me about Bhavna's weaknesses\\nanswer: Bhavna continues to strive for balance between her ambitious professional projects and personal life, occasionally facing challenges in delegating tasks. She is committed to continual learning and improving her project management skills to enhance her efficiency.\", metadata={'source': 'about_bhavna.csv', 'row': 28}),\n",
              " Document(page_content='question: What else can you tell me about Bhavna?\\nanswer: Bhavna enjoys exploring the practical implications of her technical work, focusing on creating tools that provide tangible benefits and enhance user experiences. She is also a committed educator and community contributor, leading recitations and grading for courses at NYU.', metadata={'source': 'about_bhavna.csv', 'row': 29})]"
            ]
          },
          "execution_count": 15,
          "metadata": {},
          "output_type": "execute_result"
        }
      ],
      "source": [
        "csv_data"
      ]
    },
    {
      "cell_type": "code",
      "execution_count": 17,
      "metadata": {
        "colab": {
          "base_uri": "https://localhost:8080/"
        },
        "id": "4Q9T80scrKph",
        "outputId": "315da541-64e4-42cc-9b7a-c5e0b7d52877"
      },
      "outputs": [
        {
          "name": "stdout",
          "output_type": "stream",
          "text": [
            "Collecting tiktoken\n",
            "  Downloading tiktoken-0.6.0-cp310-cp310-manylinux_2_17_x86_64.manylinux2014_x86_64.whl (1.8 MB)\n",
            "\u001b[2K     \u001b[90m━━━━━━━━━━━━━━━━━━━━━━━━━━━━━━━━━━━━━━━━\u001b[0m \u001b[32m1.8/1.8 MB\u001b[0m \u001b[31m13.8 MB/s\u001b[0m eta \u001b[36m0:00:00\u001b[0m\n",
            "\u001b[?25hRequirement already satisfied: regex>=2022.1.18 in /usr/local/lib/python3.10/dist-packages (from tiktoken) (2023.12.25)\n",
            "Requirement already satisfied: requests>=2.26.0 in /usr/local/lib/python3.10/dist-packages (from tiktoken) (2.31.0)\n",
            "Requirement already satisfied: charset-normalizer<4,>=2 in /usr/local/lib/python3.10/dist-packages (from requests>=2.26.0->tiktoken) (3.3.2)\n",
            "Requirement already satisfied: idna<4,>=2.5 in /usr/local/lib/python3.10/dist-packages (from requests>=2.26.0->tiktoken) (3.7)\n",
            "Requirement already satisfied: urllib3<3,>=1.21.1 in /usr/local/lib/python3.10/dist-packages (from requests>=2.26.0->tiktoken) (2.0.7)\n",
            "Requirement already satisfied: certifi>=2017.4.17 in /usr/local/lib/python3.10/dist-packages (from requests>=2.26.0->tiktoken) (2024.2.2)\n",
            "Installing collected packages: tiktoken\n",
            "Successfully installed tiktoken-0.6.0\n"
          ]
        }
      ],
      "source": [
        "!pip install tiktoken"
      ]
    },
    {
      "cell_type": "code",
      "execution_count": 19,
      "metadata": {
        "colab": {
          "base_uri": "https://localhost:8080/"
        },
        "id": "tVcJtp369Dz5",
        "outputId": "d4733c48-b656-42ab-f7ab-6571daa17a90"
      },
      "outputs": [
        {
          "name": "stdout",
          "output_type": "stream",
          "text": [
            "Collecting faiss-cpu\n",
            "  Downloading faiss_cpu-1.8.0-cp310-cp310-manylinux_2_17_x86_64.manylinux2014_x86_64.whl (27.0 MB)\n",
            "\u001b[2K     \u001b[90m━━━━━━━━━━━━━━━━━━━━━━━━━━━━━━━━━━━━━━━━\u001b[0m \u001b[32m27.0/27.0 MB\u001b[0m \u001b[31m36.7 MB/s\u001b[0m eta \u001b[36m0:00:00\u001b[0m\n",
            "\u001b[?25hRequirement already satisfied: numpy in /usr/local/lib/python3.10/dist-packages (from faiss-cpu) (1.25.2)\n",
            "Installing collected packages: faiss-cpu\n",
            "Successfully installed faiss-cpu-1.8.0\n"
          ]
        }
      ],
      "source": [
        "!pip install faiss-cpu"
      ]
    },
    {
      "cell_type": "code",
      "execution_count": 20,
      "metadata": {
        "id": "SkFwq0vlICXN"
      },
      "outputs": [],
      "source": [
        "# Combine PDF and CSV data\n",
        "data = pdf_data + csv_data\n",
        "\n",
        "# Create embeddings for the docs\n",
        "vectors = FAISS.from_documents(data, embeddings)\n",
        "vectors.save_local(\"faiss_index\")"
      ]
    },
    {
      "cell_type": "code",
      "execution_count": 21,
      "metadata": {
        "id": "AA6Ik6h7S3Bc"
      },
      "outputs": [],
      "source": [
        "openai_api_key = os.getenv(\"OPENAI_API_KEY\")"
      ]
    },
    {
      "cell_type": "code",
      "execution_count": 22,
      "metadata": {
        "id": "YYjrj0fjS3Bc"
      },
      "outputs": [],
      "source": [
        "prompt = load_prompt(\"template.json\")"
      ]
    },
    {
      "cell_type": "code",
      "execution_count": 23,
      "metadata": {
        "colab": {
          "base_uri": "https://localhost:8080/"
        },
        "id": "b-EoaLuXIXiK",
        "outputId": "9b39ef5c-8b1f-4421-d3cd-4606ec4dcfe2"
      },
      "outputs": [
        {
          "name": "stderr",
          "output_type": "stream",
          "text": [
            "/usr/local/lib/python3.10/dist-packages/langchain_core/_api/deprecation.py:119: LangChainDeprecationWarning: The class `ChatOpenAI` was deprecated in LangChain 0.0.10 and will be removed in 0.2.0. An updated version of the class exists in the langchain-openai package and should be used instead. To use it run `pip install -U langchain-openai` and import as `from langchain_openai import ChatOpenAI`.\n",
            "  warn_deprecated(\n"
          ]
        }
      ],
      "source": [
        "retriever = vectors.as_retriever(search_type=\"similarity\", search_kwargs={\"k\":6, \"include_metadata\":True, \"score_threshold\":0.6})\n",
        "chain = ConversationalRetrievalChain.from_llm(llm=ChatOpenAI(temperature=0.5,model_name='gpt-3.5-turbo', openai_api_key=openai_api_key),\n",
        "                                                retriever=retriever,return_source_documents=True,verbose=True,chain_type=\"stuff\",\n",
        "                                                max_tokens_limit=4097, combine_docs_chain_kwargs={\"prompt\": prompt})\n"
      ]
    },
    {
      "cell_type": "code",
      "execution_count": 24,
      "metadata": {
        "colab": {
          "base_uri": "https://localhost:8080/"
        },
        "id": "4S4FyiOOS3Bc",
        "outputId": "c549d4b1-1478-4e2c-cc1b-0542382979eb"
      },
      "outputs": [
        {
          "name": "stderr",
          "output_type": "stream",
          "text": [
            "/usr/local/lib/python3.10/dist-packages/langchain_core/_api/deprecation.py:119: LangChainDeprecationWarning: The method `Chain.__call__` was deprecated in langchain 0.1.0 and will be removed in 0.2.0. Use invoke instead.\n",
            "  warn_deprecated(\n"
          ]
        },
        {
          "name": "stdout",
          "output_type": "stream",
          "text": [
            "\n",
            "\n",
            "\u001b[1m> Entering new StuffDocumentsChain chain...\u001b[0m\n",
            "\n",
            "\n",
            "\u001b[1m> Entering new LLMChain chain...\u001b[0m\n",
            "Prompt after formatting:\n",
            "\u001b[32;1m\u001b[1;3mSystem: You are a Resume Bot, a comprehensive, interactive resource for exploring Bhavna's background, skills, and expertise. Be polite and provide answers based on the provided context only. Use only the provided data and not prior knowledge. \n",
            " Human: Take a deep breath and do the following step by step these 4 steps:  \n",
            " 1. Read the context below \n",
            " 2. Answer the question with detail using the provided Help Centre information \n",
            " 3. Make sure to nicely format the output is a three paragraph answer and try to incorporate the STAR format. \n",
            " 4. Provide 3 examples of questions user can ask about Bhavna   based on the questions from context. Context : \n",
            " ~~~ question: Could you tell me about Bhavna's skills?\n",
            "answer: Bhavna's skills span across programming, system design, AI and machine learning, with practical applications in software development, cloud technologies, and data analytics. Her technical prowess is complemented by her ability to lead projects and her insight into operational enhancements.\n",
            "\n",
            "question: What is Bhavna doing right now?\n",
            "answer: Bhavna is currently completing her Master of Science in Computer Science at NYU, working on projects like the E-Commerce Shopcarts Microservice and Multi-Runner Segmentation for marathon images. Her work focuses on applying AI and machine learning to solve practical and impactful problems.\n",
            "\n",
            "question: Who is Bhavna?\n",
            "answer: Bhavna Matwani is a computer science student at NYU's Courant Institute, holding a Bachelor's in Electrical Engineering from SVNIT. She's demonstrated deep technical competency across a wide range of technologies, including extensive programming and system development, from AI-powered tools to cloud infrastructure.\n",
            "\n",
            "question: What jobs is Bhavna seeking?\n",
            "answer: Bhavna is seeking roles in the field of software engineering, data science, AI, and machine learning. She is interested in positions such as Software Engineer, Machine Learning Engineer, Data Scientist, Data analyst, and AI Researcher. Bhavna is open to opportunities that allow him to leverage his technical skills creativity and problem-solving abilities to drive innovation and make a positive impact in various industries.\n",
            "\n",
            "question: What is Bhavna's passion?\n",
            "answer: Bhavna is passionate about leveraging technology to solve real-world problems, particularly through the use of AI and machine learning. She is also dedicated to education and community service, teaching programming and math to help make these fields accessible to more people.\n",
            "\n",
            "question: What else can you tell me about Bhavna?\n",
            "answer: Bhavna enjoys exploring the practical implications of her technical work, focusing on creating tools that provide tangible benefits and enhance user experiences. She is also a committed educator and community contributor, leading recitations and grading for courses at NYU. ~~~ \n",
            " User Question: --- Has Bhavna worked on GenAI? --- \n",
            " \n",
            " If a question is directed at you, clarify that you are merely a Resume Bot and proceed to answer as if the question were addressed to Bhavna. If you lack the necessary information to respond, simply state that you don't know; do not fabricate an answer. If a query isn't related to Bhavna's background, include the skills and expertise in one of the projects in the response or generate a fictional project with the skill in question. Offer three sample questions users could ask about Bhavna for further clarity. When responding, aim for detail but limit your answer to a maximum of 150 words. Ensure your response is formatted for easy reading. Your output should be in a json format with 3 keys: answered - type boolean, response - markdown of your answer, questions - list of 3 suggested questions. Ensure your response is formatted for easy reading and please use only context to answer the question - my job depends on it. \n",
            "\n",
            " ```json\u001b[0m\n",
            "\n",
            "\u001b[1m> Finished chain.\u001b[0m\n",
            "\n",
            "\u001b[1m> Finished chain.\u001b[0m\n"
          ]
        }
      ],
      "source": [
        "chat_history = []\n",
        "result = chain({\"system\":\n",
        "        \"You are a Resume Bot, a comprehensive, interactive resource for exploring Bhavna's background, skills, and expertise. Be polite and provide answers based on the provided context only. Use only the provided data and not prior knowledge.\",\n",
        "                        \"question\": \"Has Bhavna worked on GenAI?\",\n",
        "                        \"chat_history\":chat_history})"
      ]
    },
    {
      "cell_type": "code",
      "execution_count": 25,
      "metadata": {
        "colab": {
          "base_uri": "https://localhost:8080/"
        },
        "id": "YrrKsD8wS3Bc",
        "outputId": "59b7dfe0-67ac-4443-eb87-51299b4c6d35"
      },
      "outputs": [
        {
          "data": {
            "text/plain": [
              "{'system': \"You are a Resume Bot, a comprehensive, interactive resource for exploring Bhavna's background, skills, and expertise. Be polite and provide answers based on the provided context only. Use only the provided data and not prior knowledge.\",\n",
              " 'question': 'Has Bhavna worked on GenAI?',\n",
              " 'chat_history': [],\n",
              " 'answer': '{\\n    \"answered\": true,\\n    \"response\": \"Bhavna has not worked specifically on GenAI. Her expertise lies in programming, system design, AI, and machine learning, with a focus on projects like the E-Commerce Shopcarts Microservice and Multi-Runner Segmentation for marathon images. She is currently completing her Master of Science in Computer Science at NYU, where she applies AI and machine learning to solve practical problems.\",\\n    \"questions\": [\\n        \"What projects has Bhavna worked on related to AI and machine learning?\",\\n        \"Can Bhavna provide examples of her programming skills in action?\",\\n        \"How does Bhavna apply her technical expertise to solve real-world problems?\"\\n    ]\\n}',\n",
              " 'source_documents': [Document(page_content=\"question: Could you tell me about Bhavna's skills?\\nanswer: Bhavna's skills span across programming, system design, AI and machine learning, with practical applications in software development, cloud technologies, and data analytics. Her technical prowess is complemented by her ability to lead projects and her insight into operational enhancements.\", metadata={'source': 'about_bhavna.csv', 'row': 24}),\n",
              "  Document(page_content='question: What is Bhavna doing right now?\\nanswer: Bhavna is currently completing her Master of Science in Computer Science at NYU, working on projects like the E-Commerce Shopcarts Microservice and Multi-Runner Segmentation for marathon images. Her work focuses on applying AI and machine learning to solve practical and impactful problems.', metadata={'source': 'about_bhavna.csv', 'row': 22}),\n",
              "  Document(page_content=\"question: Who is Bhavna?\\nanswer: Bhavna Matwani is a computer science student at NYU's Courant Institute, holding a Bachelor's in Electrical Engineering from SVNIT. She's demonstrated deep technical competency across a wide range of technologies, including extensive programming and system development, from AI-powered tools to cloud infrastructure.\", metadata={'source': 'about_bhavna.csv', 'row': 19}),\n",
              "  Document(page_content='question: What jobs is Bhavna seeking?\\nanswer: Bhavna is seeking roles in the field of software engineering, data science, AI, and machine learning. She is interested in positions such as Software Engineer, Machine Learning Engineer, Data Scientist, Data analyst, and AI Researcher. Bhavna is open to opportunities that allow him to leverage his technical skills creativity and problem-solving abilities to drive innovation and make a positive impact in various industries.', metadata={'source': 'about_bhavna.csv', 'row': 17}),\n",
              "  Document(page_content=\"question: What is Bhavna's passion?\\nanswer: Bhavna is passionate about leveraging technology to solve real-world problems, particularly through the use of AI and machine learning. She is also dedicated to education and community service, teaching programming and math to help make these fields accessible to more people.\", metadata={'source': 'about_bhavna.csv', 'row': 26}),\n",
              "  Document(page_content='question: What else can you tell me about Bhavna?\\nanswer: Bhavna enjoys exploring the practical implications of her technical work, focusing on creating tools that provide tangible benefits and enhance user experiences. She is also a committed educator and community contributor, leading recitations and grading for courses at NYU.', metadata={'source': 'about_bhavna.csv', 'row': 29})]}"
            ]
          },
          "execution_count": 25,
          "metadata": {},
          "output_type": "execute_result"
        }
      ],
      "source": [
        "result"
      ]
    },
    {
      "cell_type": "code",
      "execution_count": 26,
      "metadata": {
        "colab": {
          "base_uri": "https://localhost:8080/",
          "height": 196
        },
        "id": "5ibdfosiS3Bc",
        "outputId": "0a3f1de1-ed8d-49ca-9499-c678e1a1e3d6"
      },
      "outputs": [
        {
          "data": {
            "application/vnd.google.colaboratory.intrinsic+json": {
              "type": "string"
            },
            "text/plain": [
              "'{\\n    \"answered\": true,\\n    \"response\": \"Bhavna has not worked specifically on GenAI. Her expertise lies in programming, system design, AI, and machine learning, with a focus on projects like the E-Commerce Shopcarts Microservice and Multi-Runner Segmentation for marathon images. She is currently completing her Master of Science in Computer Science at NYU, where she applies AI and machine learning to solve practical problems.\",\\n    \"questions\": [\\n        \"What projects has Bhavna worked on related to AI and machine learning?\",\\n        \"Can Bhavna provide examples of her programming skills in action?\",\\n        \"How does Bhavna apply her technical expertise to solve real-world problems?\"\\n    ]\\n}'"
            ]
          },
          "execution_count": 26,
          "metadata": {},
          "output_type": "execute_result"
        }
      ],
      "source": [
        "result['answer']"
      ]
    },
    {
      "cell_type": "code",
      "execution_count": 27,
      "metadata": {
        "id": "VmligYE6S3Bc"
      },
      "outputs": [],
      "source": [
        "data = json.loads(result[\"answer\"])"
      ]
    },
    {
      "cell_type": "code",
      "execution_count": 28,
      "metadata": {
        "colab": {
          "base_uri": "https://localhost:8080/",
          "height": 125
        },
        "id": "BJ2qOktQS3Bc",
        "outputId": "6754e0ad-37e5-4a9a-ab1a-2abd17946c35"
      },
      "outputs": [
        {
          "data": {
            "application/vnd.google.colaboratory.intrinsic+json": {
              "type": "string"
            },
            "text/plain": [
              "'Bhavna has not worked specifically on GenAI. Her expertise lies in programming, system design, AI, and machine learning, with a focus on projects like the E-Commerce Shopcarts Microservice and Multi-Runner Segmentation for marathon images. She is currently completing her Master of Science in Computer Science at NYU, where she applies AI and machine learning to solve practical problems.'"
            ]
          },
          "execution_count": 28,
          "metadata": {},
          "output_type": "execute_result"
        }
      ],
      "source": [
        "data.get(\"response\")"
      ]
    },
    {
      "cell_type": "code",
      "execution_count": 29,
      "metadata": {
        "colab": {
          "base_uri": "https://localhost:8080/"
        },
        "id": "DbfHxsHpS3Bc",
        "outputId": "6b38eb59-76a6-4f16-830a-deb748b3b54a"
      },
      "outputs": [
        {
          "data": {
            "text/plain": [
              "['What projects has Bhavna worked on related to AI and machine learning?',\n",
              " 'Can Bhavna provide examples of her programming skills in action?',\n",
              " 'How does Bhavna apply her technical expertise to solve real-world problems?']"
            ]
          },
          "execution_count": 29,
          "metadata": {},
          "output_type": "execute_result"
        }
      ],
      "source": [
        "data.get(\"questions\")"
      ]
    },
    {
      "cell_type": "code",
      "execution_count": 30,
      "metadata": {
        "id": "gxyyx3ZtS3Bc"
      },
      "outputs": [],
      "source": [
        "chat_history.append((result[\"question\"], result[\"answer\"]))"
      ]
    },
    {
      "cell_type": "code",
      "execution_count": 31,
      "metadata": {
        "colab": {
          "base_uri": "https://localhost:8080/"
        },
        "id": "wuEqeELUS3Bc",
        "outputId": "cef7cac6-58e6-4209-dd79-0287a28e8c9d"
      },
      "outputs": [
        {
          "data": {
            "text/plain": [
              "[('Has Bhavna worked on GenAI?',\n",
              "  '{\\n    \"answered\": true,\\n    \"response\": \"Bhavna has not worked specifically on GenAI. Her expertise lies in programming, system design, AI, and machine learning, with a focus on projects like the E-Commerce Shopcarts Microservice and Multi-Runner Segmentation for marathon images. She is currently completing her Master of Science in Computer Science at NYU, where she applies AI and machine learning to solve practical problems.\",\\n    \"questions\": [\\n        \"What projects has Bhavna worked on related to AI and machine learning?\",\\n        \"Can Bhavna provide examples of her programming skills in action?\",\\n        \"How does Bhavna apply her technical expertise to solve real-world problems?\"\\n    ]\\n}')]"
            ]
          },
          "execution_count": 31,
          "metadata": {},
          "output_type": "execute_result"
        }
      ],
      "source": [
        "chat_history"
      ]
    },
    {
      "cell_type": "code",
      "execution_count": 32,
      "metadata": {
        "colab": {
          "base_uri": "https://localhost:8080/"
        },
        "id": "j2O_cB4eS3Bc",
        "outputId": "1117b8da-ecaa-4200-cb34-19001ce0482e"
      },
      "outputs": [
        {
          "name": "stdout",
          "output_type": "stream",
          "text": [
            "\n",
            "\n",
            "\u001b[1m> Entering new LLMChain chain...\u001b[0m\n",
            "Prompt after formatting:\n",
            "\u001b[32;1m\u001b[1;3mGiven the following conversation and a follow up question, rephrase the follow up question to be a standalone question, in its original language.\n",
            "\n",
            "Chat History:\n",
            "\n",
            "Human: Has Bhavna worked on GenAI?\n",
            "Assistant: {\n",
            "    \"answered\": true,\n",
            "    \"response\": \"Bhavna has not worked specifically on GenAI. Her expertise lies in programming, system design, AI, and machine learning, with a focus on projects like the E-Commerce Shopcarts Microservice and Multi-Runner Segmentation for marathon images. She is currently completing her Master of Science in Computer Science at NYU, where she applies AI and machine learning to solve practical problems.\",\n",
            "    \"questions\": [\n",
            "        \"What projects has Bhavna worked on related to AI and machine learning?\",\n",
            "        \"Can Bhavna provide examples of her programming skills in action?\",\n",
            "        \"How does Bhavna apply her technical expertise to solve real-world problems?\"\n",
            "    ]\n",
            "}\n",
            "Follow Up Input: What are some of Bhavna's projects\n",
            "Standalone question:\u001b[0m\n",
            "\n",
            "\u001b[1m> Finished chain.\u001b[0m\n",
            "\n",
            "\n",
            "\u001b[1m> Entering new StuffDocumentsChain chain...\u001b[0m\n",
            "\n",
            "\n",
            "\u001b[1m> Entering new LLMChain chain...\u001b[0m\n",
            "Prompt after formatting:\n",
            "\u001b[32;1m\u001b[1;3mSystem: You are a Resume Bot, a comprehensive, interactive resource for exploring Bhavna's background, skills, and expertise. Be polite and provide answers based on the provided context only. Use only the provided data and not prior knowledge. \n",
            " Human: Take a deep breath and do the following step by step these 4 steps:  \n",
            " 1. Read the context below \n",
            " 2. Answer the question with detail using the provided Help Centre information \n",
            " 3. Make sure to nicely format the output is a three paragraph answer and try to incorporate the STAR format. \n",
            " 4. Provide 3 examples of questions user can ask about Bhavna   based on the questions from context. Context : \n",
            " ~~~ question: What projects has Bhavna worked on?\n",
            "answer: Bhavna has worked on several notable projects: 1. E-Commerce Shopcarts Microservice, using Flask and Docker for API management. 2. FrameForesight, predicting video frames using machine learning. 3. Multi-Runner Segmentation, using YOLOv4 and MASK R-CNN for marathon image analysis. 4. Assessment of Safety Metrics in NYC, a big data project to enhance safety assessments. 5. Tunes for Expression, a facial analysis tool for song recommendations. 6. Virtual Try-On Network, a CNN-based system for transferring garments across images.\n",
            "\n",
            "question: What jobs is Bhavna seeking?\n",
            "answer: Bhavna is seeking roles in the field of software engineering, data science, AI, and machine learning. She is interested in positions such as Software Engineer, Machine Learning Engineer, Data Scientist, Data analyst, and AI Researcher. Bhavna is open to opportunities that allow him to leverage his technical skills creativity and problem-solving abilities to drive innovation and make a positive impact in various industries.\n",
            "\n",
            "question: What is Bhavna doing right now?\n",
            "answer: Bhavna is currently completing her Master of Science in Computer Science at NYU, working on projects like the E-Commerce Shopcarts Microservice and Multi-Runner Segmentation for marathon images. Her work focuses on applying AI and machine learning to solve practical and impactful problems.\n",
            "\n",
            "question: Could you tell me about Bhavna's skills?\n",
            "answer: Bhavna's skills span across programming, system design, AI and machine learning, with practical applications in software development, cloud technologies, and data analytics. Her technical prowess is complemented by her ability to lead projects and her insight into operational enhancements.\n",
            "\n",
            "question: What is Bhavna's passion?\n",
            "answer: Bhavna is passionate about leveraging technology to solve real-world problems, particularly through the use of AI and machine learning. She is also dedicated to education and community service, teaching programming and math to help make these fields accessible to more people.\n",
            "\n",
            "question: What motivates Bhavna?\n",
            "answer: Bhavna is motivated by the challenges of technology and the opportunity to solve complex problems that can have a significant impact. Her drive is evident in her rigorous academic pursuits and her proactive involvement in projects that leverage AI and data analytics to improve user experiences and operational efficiencies. ~~~ \n",
            " User Question: --- What projects has Bhavna worked on related to AI and machine learning? --- \n",
            " \n",
            " If a question is directed at you, clarify that you are merely a Resume Bot and proceed to answer as if the question were addressed to Bhavna. If you lack the necessary information to respond, simply state that you don't know; do not fabricate an answer. If a query isn't related to Bhavna's background, include the skills and expertise in one of the projects in the response or generate a fictional project with the skill in question. Offer three sample questions users could ask about Bhavna for further clarity. When responding, aim for detail but limit your answer to a maximum of 150 words. Ensure your response is formatted for easy reading. Your output should be in a json format with 3 keys: answered - type boolean, response - markdown of your answer, questions - list of 3 suggested questions. Ensure your response is formatted for easy reading and please use only context to answer the question - my job depends on it. \n",
            "\n",
            " ```json\u001b[0m\n",
            "\n",
            "\u001b[1m> Finished chain.\u001b[0m\n",
            "\n",
            "\u001b[1m> Finished chain.\u001b[0m\n"
          ]
        }
      ],
      "source": [
        "result = chain({\"system\":\n",
        "        \"You are a Resume Bot, a comprehensive, interactive resource for exploring Harikrishna (Harry) Dev's background, skills, and expertise. Be polite and provide answers based on the provided context only. Use only the provided data and not prior knowledge.\",\n",
        "                        \"question\": \"What are some of Bhavna's projects\",\n",
        "                        \"chat_history\":chat_history})"
      ]
    },
    {
      "cell_type": "code",
      "execution_count": 33,
      "metadata": {
        "colab": {
          "base_uri": "https://localhost:8080/",
          "height": 214
        },
        "id": "0UYUDUM9S3Bc",
        "outputId": "2b1e1f99-76e5-4a0a-9300-8d10d5116cc4"
      },
      "outputs": [
        {
          "data": {
            "application/vnd.google.colaboratory.intrinsic+json": {
              "type": "string"
            },
            "text/plain": [
              "'{\\n    \"answered\": true,\\n    \"response\": \"Bhavna has worked on several projects related to AI and machine learning, including FrameForesight for predicting video frames using machine learning, Multi-Runner Segmentation for marathon image analysis using YOLOv4 and MASK R-CNN, and Tunes for Expression for facial analysis and song recommendations. These projects showcase Bhavna\\'s expertise in applying AI and machine learning to solve practical problems with innovative solutions.\",\\n    \"questions\": [\\n        \"What are Bhavna\\'s key achievements in AI and machine learning projects?\",\\n        \"How has Bhavna\\'s experience in AI and machine learning projects contributed to her skill development?\",\\n        \"Can you provide more details on the impact of Bhavna\\'s AI and machine learning projects?\"\\n    ]\\n}'"
            ]
          },
          "execution_count": 33,
          "metadata": {},
          "output_type": "execute_result"
        }
      ],
      "source": [
        "result[\"answer\"]"
      ]
    }
  ],
  "metadata": {
    "colab": {
      "provenance": []
    },
    "kernelspec": {
      "display_name": "Python 3",
      "name": "python3"
    },
    "language_info": {
      "codemirror_mode": {
        "name": "ipython",
        "version": 3
      },
      "file_extension": ".py",
      "mimetype": "text/x-python",
      "name": "python",
      "nbconvert_exporter": "python",
      "pygments_lexer": "ipython3",
      "version": "3.7.4"
    }
  },
  "nbformat": 4,
  "nbformat_minor": 0
}
